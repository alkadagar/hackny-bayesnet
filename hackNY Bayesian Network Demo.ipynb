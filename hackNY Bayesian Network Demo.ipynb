{
 "metadata": {
  "name": "hackNY Bayesian Network Demo"
 },
 "nbformat": 3,
 "nbformat_minor": 0,
 "worksheets": [
  {
   "cells": [
    {
     "cell_type": "code",
     "collapsed": false,
     "input": [
      "import pymc\n",
      "import daft\n",
      "import csv\n",
      "from scipy.sparse import coo_matrix\n",
      "from sklearn.decomposition import ProjectedGradientNMF\n",
      "from itertools import product, izip"
     ],
     "language": "python",
     "metadata": {},
     "outputs": [],
     "prompt_number": 257
    },
    {
     "cell_type": "heading",
     "level": 1,
     "metadata": {},
     "source": [
      "Welcome"
     ]
    },
    {
     "cell_type": "markdown",
     "metadata": {},
     "source": [
      "**Bayesian networks are a method for building your own machine learning models.**\n",
      "\n",
      "- With Bayesian networks, we model our data problem as a **causal network**, or a **story** involving **hidden** and **observed** variables.\n",
      "   - We come up with **a story** that we think **explains our data**.\n",
      "   - We **use Bayes's rule to find** _posterior_ probability distributions of the **hidden variables** given our observed variables (data).\n",
      "   - We use the full posterior distributions for our next action (decision, recommendation, prediction).\n",
      "- **Advantages**:\n",
      "   - **Confidence estimates.**\n",
      "   - **Flexibility.** We can change the story and re-train the model.\n",
      "     - Classical machine learning methods are **inflexible**: Code and theory only works for its specific problem.\n",
      "     - Your real world data probably has some important \n",
      "Difficult to adapt to your particular problem, which may not have been studied by researchers.\n",
      " - **Disadvantages**:\n",
      "     - **Slow** (unless you do a lot of math)\n",
      "     - **You have to think.**\n",
      "- **For many of your data problems, you may want or need to fit a custom machine learning model.**\n",
      "     - Some important aspect of your data probably hasn't been studied by researchers.\n",
      "     - I don't agree with this picture: http://scikit-learn.org/stable/_static/ml_map.png\n"
     ]
    },
    {
     "cell_type": "heading",
     "level": 1,
     "metadata": {},
     "source": [
      "Bayesian Statistics"
     ]
    },
    {
     "cell_type": "markdown",
     "metadata": {},
     "source": [
      "We have some data $X$. How did it get there?\n",
      "\n",
      "**We don't know.** There is no one right answer, only answers that are more or less supported by the evidence.\n",
      "\n",
      "A textbook example: Somebody tests HIV positive.\n",
      "\n",
      "Story:\n",
      "\n",
      "- Grab a person off the street in New York. (0.03% of NY is diagnosed with HIV)\n",
      "- Give them an HIV test.\n",
      "  - For HIV positive patients, test returns positive 99% of the time. (True positive rate.)\n",
      "  - For HIV negative patients, test returns negative 0.1% of the time. (False positive rate.)\n",
      "\n",
      "Does the person have HIV? **We don't know**. But we can compute probabilities, given this story, using Bayes' rule.\n",
      "\n",
      "Let $+$ denote the event the 'test positive', $-$ denote the event 'test negative', and $H$ denote the event 'HIV positive'. Then using Bayes's rule,\n",
      "$$\\begin{eqnarray*}\n",
      "p(H|+) & = & \\frac{p(+|H)p(H)}{p(+)} \\\\\\\\\n",
      " & = & \\frac{p(+|H)P(H)}{p(+|H)p(H)+p(+|\\overline{H})p(\\overline{H})} \\\\\\\\\n",
      " & = & \\frac{(0.99)(0.0003)}{(0.99)(0.0003)+(0.001)(0.9997)} \\\\\\\\\n",
      " & \\approx & 0.229\n",
      "\\end{eqnarray*}$$\n"
     ]
    },
    {
     "cell_type": "heading",
     "level": 2,
     "metadata": {},
     "source": [
      "Bayesian Statistics, More Formally"
     ]
    },
    {
     "cell_type": "markdown",
     "metadata": {},
     "source": [
      "To do Bayesian statistics, we need\n",
      "\n",
      " - A **probability model**, a story of how the data came to be.\n",
      " - **Hidden variables** $\\theta$, about which which we want to infer probabilities.\n",
      " - **Observed variables** $X$.\n",
      " - A **prior** on our hidden variables $p(\\theta)$: What do we believe before seeing any data?\n",
      " - A **likelihood** $p(X | \\theta)$ relating hidden variables to observed variables\n",
      "\n",
      "Then Bayes' rule ties them together:\n",
      "\n",
      "$$\\begin{eqnarray*}\n",
      "p(\\theta|X) & = & \\frac{p(X|\\theta)p(\\theta)}{p(X)} \\\\\\\\\n",
      "& = & \\frac{p(X|\\theta)P(\\theta)}{\\int p(X|\\theta)p(\\theta) d\\theta} \\\\\\\\\n",
      "\\end{eqnarray*}$$\n",
      "\n",
      "Bayesian inference is\n",
      "\n",
      " - Useful: hidden variables\n",
      " - Hard: the denominator is high-dimensional integral. You can't just use Simpson's rule; it will take exponential time.\n",
      "  - We use Markov Chain Monte Carlo (MCMC) with the PyMC package."
     ]
    },
    {
     "cell_type": "heading",
     "level": 1,
     "metadata": {},
     "source": [
      "Movie Recommendations"
     ]
    },
    {
     "cell_type": "markdown",
     "metadata": {},
     "source": [
      "We have $N$ users and $M$ items. Given a small samples of ratings $r_{ij}$, predict $\\hat{r}_{i'j'}$ for pairs $(i', j')$ we don't observe.\n",
      "\n",
      "Our toy dataset: http://mlcomp.org/datasets/736, 190 training ratings (81 test), $N = 6, M = 91$.\n",
      "\n"
     ]
    },
    {
     "cell_type": "code",
     "collapsed": false,
     "input": [
      "def loadData(filename):\n",
      "    data = np.loadtxt(filename)\n",
      "    users = data[:,0].astype(int)\n",
      "    items = data[:,1].astype(int)\n",
      "    ratings = data[:,2]\n",
      "    \n",
      "    return (N, users, items, ratings)\n",
      "\n",
      "TRAIN_FILE = '736/train'\n",
      "TEST_FILE  = '736/test'\n",
      "\n",
      "(nTrain, users, items, ratings) = loadData(TRAIN_FILE)\n",
      "(nTest,  testUsers, testItems, testRatings) = loadData(TEST_FILE)\n",
      "\n",
      "N = np.max(users)\n",
      "M = np.max(items)"
     ],
     "language": "python",
     "metadata": {},
     "outputs": [],
     "prompt_number": 151
    },
    {
     "cell_type": "markdown",
     "metadata": {},
     "source": [
      "Always look at our data!"
     ]
    },
    {
     "cell_type": "code",
     "collapsed": false,
     "input": [
      "plt.figure()\n",
      "plt.hist(ratings)\n",
      "plt.figure()\n",
      "plt.hist(testRatings)"
     ],
     "language": "python",
     "metadata": {},
     "outputs": [
      {
       "output_type": "pyout",
       "prompt_number": 152,
       "text": [
        "(array([47, 18,  9,  2,  0,  3,  1,  0,  0,  1]),\n",
        " array([ 0.75432862,  1.2940267 ,  1.83372478,  2.37342286,  2.91312094,\n",
        "        3.45281902,  3.9925171 ,  4.53221518,  5.07191326,  5.61161134,\n",
        "        6.15130942]),\n",
        " <a list of 10 Patch objects>)"
       ]
      },
      {
       "output_type": "display_data",
       "png": "[encoded data removed]"
      },
      {
       "output_type": "display_data",
       "png": "[encoded data removed]"
      }
     ],
     "prompt_number": 152
    },
    {
     "cell_type": "markdown",
     "metadata": {},
     "source": [
      "From the test set, it appears like we have 1-6 stars, but something weird is happening in the training set! The histogram says there are outliers, so let's take a look:"
     ]
    },
    {
     "cell_type": "code",
     "collapsed": false,
     "input": [
      "outlierIdxs = ratings > 6\n",
      "print np.flatnonzero(outlierIdxs)\n",
      "print ratings[outlierIdxs]"
     ],
     "language": "python",
     "metadata": {},
     "outputs": [
      {
       "output_type": "stream",
       "stream": "stdout",
       "text": [
        "[ 83 163 165 167 168]\n",
        "[    9.54361436  1379.98131862     8.76865101  2907.19215935  1380.47446215]\n"
       ]
      }
     ],
     "prompt_number": 154
    },
    {
     "cell_type": "markdown",
     "metadata": {},
     "source": [
      "I delete the outliers from my data file; much better. **Always** make a new copy; do not overwrite your original data!"
     ]
    },
    {
     "cell_type": "code",
     "collapsed": false,
     "input": [
      "CLEAN_TRAIN_FILE = '736/trainClean'\n",
      "(nTrain, users, items, ratings) = loadData(CLEAN_TRAIN_FILE)\n",
      "\n",
      "plt.hist(ratings)"
     ],
     "language": "python",
     "metadata": {},
     "outputs": [
      {
       "output_type": "pyout",
       "prompt_number": 155,
       "text": [
        "(array([95, 43, 17,  5,  5,  3, 13,  1,  1,  2]),\n",
        " array([ 0.75722523,  1.23237711,  1.70752898,  2.18268086,  2.65783273,\n",
        "        3.13298461,  3.60813648,  4.08328836,  4.55844023,  5.03359211,\n",
        "        5.50874398]),\n",
        " <a list of 10 Patch objects>)"
       ]
      },
      {
       "output_type": "display_data",
       "png": "[encoded data removed]"
      }
     ],
     "prompt_number": 155
    },
    {
     "cell_type": "markdown",
     "metadata": {},
     "source": [
      "Now that we've taken a look at our data, let's tell a story.\n",
      "\n",
      "The classic _matrix factorization_ method for recommendations represents users and items as $d$-dimensional vectors.\n",
      "\n",
      "- Each dimension represents some abstract \"taste\": horror? chick flick? comedy?\n",
      "- A rating $r_{ij}$ is just the dot product of the respective user and item vectors: $\\mathbf{u}_i ^\\top \\mathbf{v}_j$.\n",
      "\n",
      "In Bayesian land,\n",
      "\n",
      "- For user $i = 1, \\ldots, N$, draw $\\mathbf{u}_i \\sim \\mathcal{N}(0, \\tau_0 I_d)$\n",
      "- For item $j = 1, \\ldots, M$ draw $\\mathbf{v}_j \\sim \\mathcal{N}(0, \\tau_0 I_d)$\n",
      "- For $i = 1, \\ldots, N$ and $j = 1, \\ldots, M$,\n",
      "\n",
      "    - Compute $z_{ij} = \\mathbf{u}_i ^\\top \\mathbf{v}_j$\n",
      "    - Draw $r_{ij} \\sim \\mathcal{LN}(z_{ij}, \\tau_1)$.\n",
      "\n",
      "The Bayesian network looks like\n"
     ]
    },
    {
     "cell_type": "code",
     "collapsed": false,
     "input": [
      "from matplotlib import rc\n",
      "rc(\"font\", family=\"serif\", size=36)\n",
      "rc(\"text\", usetex=True)\n",
      "\n",
      "pgm = daft.PGM([5, 4], grid_unit=5, node_unit=3)\n",
      "pgm.add_node(daft.Node(\"tau0\", r\"$\\tau_0$\",    2, 3.5, fixed=True))\n",
      "pgm.add_node(daft.Node(\"u\", r\"$\\mathbf{u}_i$\", 1, 2.5))\n",
      "pgm.add_node(daft.Node(\"v\", r\"$\\mathbf{v}_j$\", 3, 2.5))\n",
      "\n",
      "pgm.add_node(daft.Node(\"z\", r\"$z_{ij}$\", 2, 2.5))\n",
      "pgm.add_node(daft.Node(\"r\", r\"$r_{ij}$\", 2, 1.5, observed=True))\n",
      "\n",
      "pgm.add_node(daft.Node(\"tau1\", r\"$\\tau_1\", 0.25, 1.5, fixed=True))\n",
      "\n",
      "pgm.add_edge(\"tau0\", \"u\")\n",
      "pgm.add_edge(\"tau0\", \"v\")\n",
      "pgm.add_edge(\"u\", \"z\")\n",
      "pgm.add_edge(\"v\", \"z\")\n",
      "pgm.add_edge(\"z\", \"r\")\n",
      "pgm.add_edge(\"tau1\", \"r\")\n",
      "\n",
      "# [start_x, start_y, xlen, ylen]\n",
      "pgm.add_plate(daft.Plate([0.5, 0.5, 2, 2.5], label=r\"$i = 1, \\ldots, N$\"))\n",
      "pgm.add_plate(daft.Plate([1.5, 0.25, 2, 2.7], shift=0.5, label=r\"$j = 1, \\ldots, M$\"))\n",
      "\n",
      "pgm.render()\n"
     ],
     "language": "python",
     "metadata": {},
     "outputs": [
      {
       "output_type": "pyout",
       "prompt_number": 220,
       "text": [
        "<matplotlib.axes.Axes at 0x150678210>"
       ]
      },
      {
       "output_type": "display_data",
       "png": "[encoded data removed]"
      }
     ],
     "prompt_number": 220
    },
    {
     "cell_type": "markdown",
     "metadata": {},
     "source": [
      "Finding hyperparmeters is the unprincipled black magic of machine learning. I basically tried some numbers until they worked."
     ]
    },
    {
     "cell_type": "code",
     "collapsed": false,
     "input": [
      "D    = 10\n",
      "tau0 = 5\n",
      "tau1 = 5"
     ],
     "language": "python",
     "metadata": {},
     "outputs": [],
     "prompt_number": 250
    },
    {
     "cell_type": "code",
     "collapsed": false,
     "input": [
      "u = pymc.Normal('u', 0, tau0, size=(D, N))\n",
      "v = pymc.Normal('v', 0, tau0, size=(D, M))\n",
      "\n",
      "z = pymc.Lambda('z', lambda u=u, v=v: np.dot(u.T, v))\n",
      "r = np.empty(Nratings, dtype=object)\n",
      "\n",
      "for n, (i, j) in enumerate(izip(users, items)):\n",
      "    r[n] = pymc.Lognormal('x_%d_%d' % (i, j),\n",
      "                           z[i-1, j-1],    # mean\n",
      "                           tau1,           # precision (confidence)\n",
      "                           observed=True,\n",
      "                           value=ratings[n])\n",
      "\n",
      "model = pymc.Model([u, v, z, r])"
     ],
     "language": "python",
     "metadata": {},
     "outputs": [],
     "prompt_number": 251
    },
    {
     "cell_type": "heading",
     "level": 1,
     "metadata": {},
     "source": [
      "Posterior Inference and Markov Chain Monte Carlo"
     ]
    },
    {
     "cell_type": "code",
     "collapsed": false,
     "input": [
      "# There was a bug in PyMC; this is just to hack around code.\n",
      "if 3 in model.__dict__:\n",
      "    del model.__dict__[3]\n",
      "    \n",
      "pymc.MAP(model).fit()\n",
      "mcmc = pymc.MCMC(model)\n",
      "mcmc.sample(10000)"
     ],
     "language": "python",
     "metadata": {},
     "outputs": [
      {
       "output_type": "stream",
       "stream": "stdout",
       "text": [
        " \r",
        "[****************100%******************]  10000 of 10000 complete"
       ]
      },
      {
       "output_type": "stream",
       "stream": "stdout",
       "text": [
        "\n"
       ]
      }
     ],
     "prompt_number": 252
    },
    {
     "cell_type": "markdown",
     "metadata": {},
     "source": [
      "Joint probability:\n",
      "\n",
      "\n",
      "$$p\\left(\\left\\{ r_{ij},z_{ij}\\right\\} _{ij\\in I}\\left\\{ \\mathbf{u}_{i}\\right\\} _{i=1}^{N},\\left\\{ \\mathbf{v}\\right\\} _{j=1}^{M},\\tau_{0},\\tau_{1}\\right)=\\prod_{ij\\in I}\\mathcal{LN}(r_{ij}|\\mathbf{u}_{i}^{\\top}\\mathbf{v}_{i},\\tau_{1})\\prod_{i=1}^{N}\\mathcal{N}(\\mathbf{u}_{i},\\tau_{0}I_{d})\\prod_{j=1}^{M}\\mathcal{N}(\\mathbf{v}_{j},\\tau_{0}I_{d})$$\n",
      "\n",
      "Likelihood:\n",
      "\n",
      "\n",
      "WRITE DOWN THE POSTERIOR: Integral over a bunch of different things!\n",
      "\n",
      "(In fact, derive the Gibbs sampling equations)\n",
      "\n",
      "(Explain the history of how it works?)\n",
      "\n",
      "(Now do we talk about conditional independence?)"
     ]
    },
    {
     "cell_type": "heading",
     "level": 2,
     "metadata": {},
     "source": [
      "Posterior Analysis"
     ]
    },
    {
     "cell_type": "code",
     "collapsed": false,
     "input": [
      "zsamples = mcmc.trace('z')[5000:]\n",
      "zmean    = np.mean(zsamples, 0)\n",
      "\n",
      "meanExpZ = np.mean(np.exp(zsamples), 0)"
     ],
     "language": "python",
     "metadata": {},
     "outputs": [],
     "prompt_number": 253
    },
    {
     "cell_type": "markdown",
     "metadata": {},
     "source": [
      "We learned a _distribution_ over _all_ log-ratings $z_{ij}$. Let's take a peek at the first rating. The shape of the histogram captures our knowledge, including knowledge of uncertainty."
     ]
    },
    {
     "cell_type": "code",
     "collapsed": false,
     "input": [
      "plt.hist(np.exp(zsamples[:,1,1]))\n",
      "\n",
      "iFirst, jFirst, rFirst = users[1], items[1], ratings[1]\n",
      "print meanExpZ[iFirst,jFirst]\n",
      "print rFirst"
     ],
     "language": "python",
     "metadata": {},
     "outputs": [
      {
       "output_type": "stream",
       "stream": "stdout",
       "text": [
        "0.865650184854\n",
        "1.5098059294\n"
       ]
      },
      {
       "output_type": "display_data",
       "png": "[encoded data removed]"
      }
     ],
     "prompt_number": 254
    },
    {
     "cell_type": "heading",
     "level": 2,
     "metadata": {},
     "source": [
      "Accuracy Validation"
     ]
    },
    {
     "cell_type": "markdown",
     "metadata": {},
     "source": [
      "Let's output our predicted ratings as the _mean_ rating. Let $I$ be the set of item-user pairs rated, with true ratings $r_{ij}$. Recall $z_{ui}$ is the logarithm of the rating. The standard error metric is _root-mean squared error_ (RMSE):\n",
      "\n",
      "$$\\text{RMSE}(I) = \\sqrt{\\frac{1}{|I|}\\sum_{(i,j)\\in I}\\left(\\exp z_{ij}-r_{ij}\\right)^{2}}$$\n",
      "\n",
      "Let us calculate the RMSE for both training and test sets. In general, if the RMSE is way better for training set, then we've overfit."
     ]
    },
    {
     "cell_type": "code",
     "collapsed": false,
     "input": [
      "#trainRMSE = np.sqrt(np.mean((np.exp(rmean[users-1, items-1]) - ratings) ** 2))\n",
      "#testRMSE  = np.sqrt(np.mean((np.exp(rmean[testUsers-1, testItems-1]) - testRatings) ** 2))\n",
      "trainRMSE = np.sqrt(np.mean( (meanExpZ[users-1, items-1] - ratings) ** 2))\n",
      "testRMSE  = np.sqrt(np.mean( (meanExpZ[testUsers-1, testItems-1] - testRatings) ** 2))\n",
      "\n",
      "print trainRMSE\n",
      "print testRMSE"
     ],
     "language": "python",
     "metadata": {},
     "outputs": [
      {
       "output_type": "stream",
       "stream": "stdout",
       "text": [
        "0.634205085916\n",
        "0.873923179013\n"
       ]
      }
     ],
     "prompt_number": 255
    },
    {
     "cell_type": "heading",
     "level": 2,
     "metadata": {},
     "source": [
      "The Competitor, Nonnegative Matrix Factorization"
     ]
    },
    {
     "cell_type": "markdown",
     "metadata": {},
     "source": [
      "Again, I jiggled the sparsity (beta0) knob; these were the best results I got.\n",
      "\n",
      "Note exactly a fair comparison, since the NMF code is far better vectorized."
     ]
    },
    {
     "cell_type": "code",
     "collapsed": false,
     "input": [
      "R = coo_matrix((ratings, (users - 1, items - 1))).todense()\n",
      "skm = ProjectedGradientNMF(n_components=D, sparseness='data', beta=70)\n",
      "W = skm.fit_transform(R.T)\n",
      "\n",
      "reconstruct = np.dot(skm.components_.T, W.T)\n",
      "\n",
      "nmfTrainRMSE  = np.sqrt(np.mean( (reconstruct[users-1, items-1] - ratings) ** 2))\n",
      "nmfTestRMSE   = np.sqrt(np.mean( (reconstruct[testUsers-1, testItems-1] - testRatings) ** 2))\n",
      "\n",
      "print nmfTrainRMSE\n",
      "print nmfTestRMSE\n",
      "\n",
      "#print skm.reconstruction_err_\n",
      "#pint np.linalg.norm(reconstruct - R)"
     ],
     "language": "python",
     "metadata": {},
     "outputs": [
      {
       "output_type": "stream",
       "stream": "stdout",
       "text": [
        "0.911639181447\n",
        "1.43049045859\n"
       ]
      }
     ],
     "prompt_number": 314
    },
    {
     "cell_type": "code",
     "collapsed": false,
     "input": [
      "skm??"
     ],
     "language": "python",
     "metadata": {},
     "outputs": [],
     "prompt_number": 315
    },
    {
     "cell_type": "code",
     "collapsed": false,
     "input": [],
     "language": "python",
     "metadata": {},
     "outputs": []
    }
   ],
   "metadata": {}
  }
 ]
}